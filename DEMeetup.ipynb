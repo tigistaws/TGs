{
 "cells": [
  {
   "cell_type": "code",
   "execution_count": 1,
   "id": "6336199c-8d33-477f-9c33-b9572e617d64",
   "metadata": {},
   "outputs": [
    {
     "name": "stdout",
     "output_type": "stream",
     "text": [
      "Requirement already satisfied: feedparser in /opt/anaconda3/lib/python3.12/site-packages (6.0.11)\n",
      "Requirement already satisfied: pandas in /opt/anaconda3/lib/python3.12/site-packages (2.2.2)\n",
      "Requirement already satisfied: sgmllib3k in /opt/anaconda3/lib/python3.12/site-packages (from feedparser) (1.0.0)\n",
      "Requirement already satisfied: numpy>=1.26.0 in /opt/anaconda3/lib/python3.12/site-packages (from pandas) (1.26.4)\n",
      "Requirement already satisfied: python-dateutil>=2.8.2 in /opt/anaconda3/lib/python3.12/site-packages (from pandas) (2.9.0.post0)\n",
      "Requirement already satisfied: pytz>=2020.1 in /opt/anaconda3/lib/python3.12/site-packages (from pandas) (2024.1)\n",
      "Requirement already satisfied: tzdata>=2022.7 in /opt/anaconda3/lib/python3.12/site-packages (from pandas) (2023.3)\n",
      "Requirement already satisfied: six>=1.5 in /opt/anaconda3/lib/python3.12/site-packages (from python-dateutil>=2.8.2->pandas) (1.16.0)\n",
      "Note: you may need to restart the kernel to use updated packages.\n"
     ]
    }
   ],
   "source": [
    "pip install feedparser pandas\n"
   ]
  },
  {
   "cell_type": "code",
   "execution_count": 3,
   "id": "721d460f-dacd-4600-9bda-40bbd8dcc561",
   "metadata": {},
   "outputs": [
    {
     "name": "stdout",
     "output_type": "stream",
     "text": [
      "RSS feed data has been saved to /Users/tigistawoke/Downloads/DEmeetup_events.csv\n"
     ]
    }
   ],
   "source": [
    "import feedparser\n",
    "import pandas as pd\n",
    "import os\n",
    "\n",
    "# RSS feed URL for the Meetup group\n",
    "rss_feed_url = \"https://www.meetup.com/data-engineers/events/rss/\"\n",
    "\n",
    "# Parse the RSS feed\n",
    "feed = feedparser.parse(rss_feed_url)\n",
    "\n",
    "# Check if the feed was parsed correctly\n",
    "if not feed.entries:\n",
    "    print(\"No entries found in the RSS feed. Please check the URL.\")\n",
    "    exit()\n",
    "\n",
    "# Extract relevant data from the feed\n",
    "events = []\n",
    "for entry in feed.entries:\n",
    "    events.append({\n",
    "        \"Title\": entry.get(\"title\", \"\"),\n",
    "        \"Link\": entry.get(\"link\", \"\"),\n",
    "        \"Published Date\": entry.get(\"published\", \"\"),\n",
    "        \"Description\": entry.get(\"summary\", \"\"),\n",
    "    })\n",
    "\n",
    "# Convert the data to a Pandas DataFrame\n",
    "df = pd.DataFrame(events)\n",
    "\n",
    "# Define the output CSV file path\n",
    "output_file = os.path.expanduser(\"~/Downloads/DEmeetup_events.csv\")\n",
    "\n",
    "# Save the DataFrame to a CSV file\n",
    "df.to_csv(output_file, index=False)\n",
    "\n",
    "print(f\"RSS feed data has been saved to {output_file}\")\n"
   ]
  },
  {
   "cell_type": "code",
   "execution_count": null,
   "id": "6eed09a5-cb5d-462c-b1fb-e3499b14013c",
   "metadata": {},
   "outputs": [],
   "source": []
  }
 ],
 "metadata": {
  "kernelspec": {
   "display_name": "Python 3 (ipykernel)",
   "language": "python",
   "name": "python3"
  },
  "language_info": {
   "codemirror_mode": {
    "name": "ipython",
    "version": 3
   },
   "file_extension": ".py",
   "mimetype": "text/x-python",
   "name": "python",
   "nbconvert_exporter": "python",
   "pygments_lexer": "ipython3",
   "version": "3.12.4"
  }
 },
 "nbformat": 4,
 "nbformat_minor": 5
}
